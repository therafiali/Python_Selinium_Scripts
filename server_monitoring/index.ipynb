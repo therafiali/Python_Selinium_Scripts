{
 "cells": [
  {
   "cell_type": "markdown",
   "metadata": {},
   "source": [
    "# Monitoring IP Addresses with Python\n",
    "This script is a powerful tool for monitoring the status of specific IP addresses. It uses Python, a high-level, interpreted programming language known for its readability and versatility. The script also leverages several libraries to perform its tasks, including sqlmodel, subprocess, platform, selenium, and time."
   ]
  },
  {
   "cell_type": "markdown",
   "metadata": {},
   "source": [
    "## Benefits of the Script\n",
    "This script is beneficial for network administrators who need to monitor the status of IP addresses. It automates the process of pinging IP addresses and provides real-time updates on their status. By sending a WhatsApp message when an IP address goes offline, the script ensures that network issues can be addressed promptly. Furthermore, by using a database to track the status of IP addresses, the script provides a historical record of network uptime and downtime.\n",
    "\n",
    "In conclusion, this script is a great example of how Python and its libraries can be used to automate network monitoring tasks. It showcases the power of Python in system and network administration."
   ]
  },
  {
   "cell_type": "markdown",
   "metadata": {},
   "source": [
    "## How the Script Works\n",
    "The script continuously pings a list of IP addresses. If an IP address responds to the ping, it is considered online. If it doesn’t respond, it is considered offline. The script performs different actions based on the status of the IP address:\n",
    "\n",
    "If an IP address is online: The script checks if the IP address is already in the database. If it is, the script removes it from the database.\n",
    "If an IP address is offline: The script checks if the IP address is already in the database. If it isn’t, the script adds it to the database and sends a WhatsApp message notifying a user that the IP address is not responding to pings."
   ]
  },
  {
   "cell_type": "markdown",
   "metadata": {},
   "source": [
    "## Libraries Used\n",
    "### sqlmodel: \n",
    "This library is used to interact with a PostgreSQL database. It allows the script to create, read, update, and  delete entries in the database.\n",
    "### subprocess: \n",
    "This library is used to execute the ping command in the system’s command line.\n",
    "### platform:\n",
    " This library is used to determine the operating system of the host machine.\n",
    "### selenium:\n",
    " This library is used to automate browser actions, specifically sending a WhatsApp message.\n",
    "### time:\n",
    " This library is used to control the script’s execution speed."
   ]
  },
  {
   "cell_type": "markdown",
   "metadata": {},
   "source": [
    "                                        "
   ]
  },
  {
   "cell_type": "markdown",
   "metadata": {},
   "source": [
    "                               "
   ]
  },
  {
   "cell_type": "markdown",
   "metadata": {},
   "source": [
    "These lines import the necessary libraries. sqlmodel is used for database operations, subprocess and platform are used for pinging IP addresses, and selenium is used for automating WhatsApp messages."
   ]
  },
  {
   "cell_type": "code",
   "execution_count": 2,
   "metadata": {},
   "outputs": [],
   "source": [
    "from typing import Optional\n",
    "from sqlmodel import SQLModel, Field, create_engine,Session\n",
    "from sqlmodel import select\n",
    "import subprocess\n",
    "import platform\n",
    "from selenium import webdriver\n",
    "from selenium.webdriver.common.by import By\n",
    "import time\n",
    "from dotenv import load_dotenv\n",
    "import os\n"
   ]
  },
  {
   "cell_type": "markdown",
   "metadata": {},
   "source": [
    "# Database connection string"
   ]
  },
  {
   "cell_type": "code",
   "execution_count": 5,
   "metadata": {},
   "outputs": [],
   "source": [
    "load_dotenv()\n",
    "database_connection_str = os.getenv('db')   \n",
    "\n",
    "# Create engine for database connection\n",
    "#echo true only development env not for production\n",
    "engine = create_engine(database_connection_str, echo=False)    \n",
    "\n",
    "# Define Server class with SQLModel\n",
    "class Server(SQLModel, table=True):\n",
    "    id: Optional[int] = Field(default=None, primary_key=True)\n",
    "    server_ip: str\n",
    "\n",
    "# Function to create database and tables\n",
    "def create_db_and_tables():\n",
    "    SQLModel.metadata.create_all(engine)"
   ]
  },
  {
   "cell_type": "markdown",
   "metadata": {},
   "source": [
    "# Create database and tables"
   ]
  },
  {
   "cell_type": "code",
   "execution_count": null,
   "metadata": {},
   "outputs": [],
   "source": [
    "create_db_and_tables()"
   ]
  },
  {
   "cell_type": "markdown",
   "metadata": {},
   "source": [
    "# Function to create a server with a given host"
   ]
  },
  {
   "cell_type": "code",
   "execution_count": null,
   "metadata": {},
   "outputs": [],
   "source": [
    "def create_server(host:str):\n",
    "    server1 = Server(server_ip=host)\n",
    "    session = Session(engine)\n",
    "    session.add(server1)\n",
    "    session.commit()\n",
    "    session.close()"
   ]
  },
  {
   "cell_type": "markdown",
   "metadata": {},
   "source": [
    "# Function to delete an IP from the database"
   ]
  },
  {
   "cell_type": "code",
   "execution_count": null,
   "metadata": {},
   "outputs": [],
   "source": [
    "def delete_ip(host:str):\n",
    "    with Session(engine) as session:\n",
    "        statement = select(Server).where(Server.server_ip == host)\n",
    "        results = session.exec(statement)\n",
    "        ip_address = results.one()\n",
    "        print(\"IP Address: \", ip_address)\n",
    "\n",
    "        session.delete(ip_address)\n",
    "        session.commit()\n",
    "\n",
    "        print(\"Deleted ip:\", ip_address)"
   ]
  },
  {
   "cell_type": "markdown",
   "metadata": {},
   "source": [
    "# Function to select an IP from the database"
   ]
  },
  {
   "cell_type": "code",
   "execution_count": null,
   "metadata": {},
   "outputs": [],
   "source": [
    "def select_ip(host:str):\n",
    "    data = []\n",
    "    with Session(engine) as session:\n",
    "        statement = select(Server).where(Server.server_ip == host)\n",
    "        results = session.exec(statement)\n",
    "        for ip,name in results:\n",
    "            new = data.append(ip)\n",
    "        return data    "
   ]
  },
  {
   "cell_type": "code",
   "execution_count": null,
   "metadata": {},
   "outputs": [],
   "source": [
    "# Name of the cookie file for WhatsApp\n",
    "whatsapp_file_cookie_name = \"\"\n",
    "\n",
    "# Path to the Chrome profile\n",
    "chrome_profile_path = \"user-data-dir=C:/Users/Rafi Ali/AppData/Local/Google/Chrome/User Data/Default/\"\n",
    "\n",
    "# Function to ping a host\n",
    "def ping(host):\n",
    "    \"\"\"\n",
    "    Returns True if the host responds to a ping request.\n",
    "    \"\"\"\n",
    "    param = '-n' if platform.system().lower() == 'windows' else '-c'\n",
    "    command = ['ping', param, '1', host]\n",
    "    return subprocess.call(command) == 0\n",
    "\n",
    "# List of hostnames to ping\n",
    "hostname = [\"10.3.10.50\", \"10.3.10.97\",\"10.3.21.201\"]\n",
    "\n",
    "# Main loop to continuously ping hosts\n",
    "while True:\n",
    "    for host in hostname:\n",
    "        if ping(host):\n",
    "            print(f\"{host} is online\")\n",
    "            ifServer = select_ip(host)\n",
    "            for name,ip in ifServer:\n",
    "                db_ip = ip\n",
    "                if db_ip == host:\n",
    "                    print(\"already exist\")\n",
    "                    delete_ip(host)\n",
    "                        \n",
    "        else:\n",
    "            print(f\"{host} is offline\")\n",
    "            ip = \"\"\n",
    "            ifServer = select_ip(host)\n",
    "            for name,ip in ifServer:\n",
    "                db_ip = ip\n",
    "                if db_ip == host:\n",
    "                    print(\"already exist\")        \n",
    "            if host == ip:\n",
    "                print(\"Already exist in db\")                \n",
    "            else:\n",
    "                create_server(host)\n",
    "                # time.sleep(5)\n",
    "                whatsapp_file_cookie_name = \"\"\n",
    "\n",
    "                chrome_profile_path = \"user-data-dir=C:/Users/Rafi Ali/AppData/Local/Google/Chrome/User Data/Default/\"\n",
    "\n",
    "                chrome_options = webdriver.ChromeOptions()\n",
    "                chrome_options.add_argument(chrome_profile_path)\n",
    "                driver = webdriver.Chrome(options=chrome_options)\n",
    "                driver.get(f\"https://web.whatsapp.com/send?phone=+9203190269909&text=This IP address {host} is not responding to pings\")\n",
    "                print(\"hello\")\n",
    "                time.sleep(30)\n",
    "                # Use find_element instead of find_elements\n",
    "                element = driver.find_element(by=By.XPATH, value=\"/html/body/div[1]/div/div[2]/div[4]/div/footer/div[1]/div/span[2]/div/div[2]/div[2]/button\")\n",
    "                element.click()  # Now you can call .click() on the single element\n",
    "                time.sleep(10)\n",
    "                driver.quit()\n",
    "    time.sleep(20)  # Wait for 20 minute before checking again        \n"
   ]
  }
 ],
 "metadata": {
  "kernelspec": {
   "display_name": "rafi",
   "language": "python",
   "name": "python3"
  },
  "language_info": {
   "codemirror_mode": {
    "name": "ipython",
    "version": 3
   },
   "file_extension": ".py",
   "mimetype": "text/x-python",
   "name": "python",
   "nbconvert_exporter": "python",
   "pygments_lexer": "ipython3",
   "version": "3.12.0"
  }
 },
 "nbformat": 4,
 "nbformat_minor": 2
}
