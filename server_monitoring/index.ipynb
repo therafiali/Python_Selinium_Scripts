{
 "cells": [
  {
   "cell_type": "markdown",
   "metadata": {},
   "source": [
    "# Monitoring IP Addresses with Python\n",
    "This script is a powerful tool for monitoring the status of specific IP addresses. It uses Python, a high-level, interpreted programming language known for its readability and versatility. The script also leverages several libraries to perform its tasks, including sqlmodel, subprocess, platform, selenium, and time."
   ]
  },
  {
   "cell_type": "markdown",
   "metadata": {},
   "source": [
    "## Benefits of the Script\n",
    "This script is beneficial for network administrators who need to monitor the status of IP addresses. It automates the process of pinging IP addresses and provides real-time updates on their status. By sending a WhatsApp message when an IP address goes offline, the script ensures that network issues can be addressed promptly. Furthermore, by using a database to track the status of IP addresses, the script provides a historical record of network uptime and downtime.\n",
    "\n",
    "In conclusion, this script is a great example of how Python and its libraries can be used to automate network monitoring tasks. It showcases the power of Python in system and network administration."
   ]
  },
  {
   "cell_type": "markdown",
   "metadata": {},
   "source": [
    "## How the Script Works\n",
    "The script continuously pings a list of IP addresses. If an IP address responds to the ping, it is considered online. If it doesn’t respond, it is considered offline. The script performs different actions based on the status of the IP address:\n",
    "\n",
    "If an IP address is online: The script checks if the IP address is already in the database. If it is, the script removes it from the database.\n",
    "If an IP address is offline: The script checks if the IP address is already in the database. If it isn’t, the script adds it to the database and sends a WhatsApp message notifying a user that the IP address is not responding to pings."
   ]
  },
  {
   "cell_type": "markdown",
   "metadata": {},
   "source": [
    "## Libraries Used\n",
    "### sqlmodel: \n",
    "This library is used to interact with a PostgreSQL database. It allows the script to create, read, update, and  delete entries in the database.\n",
    "### subprocess: \n",
    "This library is used to execute the ping command in the system’s command line.\n",
    "### platform:\n",
    " This library is used to determine the operating system of the host machine.\n",
    "### selenium:\n",
    " This library is used to automate browser actions, specifically sending a WhatsApp message.\n",
    "### time:\n",
    " This library is used to control the script’s execution speed."
   ]
  },
  {
   "cell_type": "markdown",
   "metadata": {},
   "source": [
    "                                        "
   ]
  },
  {
   "cell_type": "markdown",
   "metadata": {},
   "source": [
    "                               "
   ]
  },
  {
   "cell_type": "markdown",
   "metadata": {},
   "source": [
    "These lines import the necessary libraries. sqlmodel is used for database operations, subprocess and platform are used for pinging IP addresses, and selenium is used for automating WhatsApp messages."
   ]
  },
  {
   "cell_type": "code",
   "execution_count": 1,
   "metadata": {},
   "outputs": [],
   "source": [
    "from typing import Optional\n",
    "from sqlmodel import SQLModel, Field, create_engine,Session\n",
    "from sqlmodel import select\n",
    "import subprocess\n",
    "import platform\n",
    "from selenium import webdriver\n",
    "from selenium.webdriver.common.by import By\n",
    "import time\n",
    "from dotenv import load_dotenv\n",
    "import os\n"
   ]
  },
  {
   "cell_type": "markdown",
   "metadata": {},
   "source": [
    "# Database connection string"
   ]
  },
  {
   "cell_type": "code",
   "execution_count": 4,
   "metadata": {},
   "outputs": [
    {
     "ename": "InvalidRequestError",
     "evalue": "Table 'server' is already defined for this MetaData instance.  Specify 'extend_existing=True' to redefine options and columns on an existing Table object.",
     "output_type": "error",
     "traceback": [
      "\u001b[1;31m---------------------------------------------------------------------------\u001b[0m",
      "\u001b[1;31mInvalidRequestError\u001b[0m                       Traceback (most recent call last)",
      "Cell \u001b[1;32mIn[4], line 9\u001b[0m\n\u001b[0;32m      6\u001b[0m engine \u001b[38;5;241m=\u001b[39m create_engine(database_connection_str, echo\u001b[38;5;241m=\u001b[39m\u001b[38;5;28;01mFalse\u001b[39;00m)    \n\u001b[0;32m      8\u001b[0m \u001b[38;5;66;03m# Define Server class with SQLModel\u001b[39;00m\n\u001b[1;32m----> 9\u001b[0m \u001b[38;5;28;43;01mclass\u001b[39;49;00m\u001b[43m \u001b[49m\u001b[38;5;21;43;01mServer\u001b[39;49;00m\u001b[43m(\u001b[49m\u001b[43mSQLModel\u001b[49m\u001b[43m,\u001b[49m\u001b[43m \u001b[49m\u001b[43mtable\u001b[49m\u001b[38;5;241;43m=\u001b[39;49m\u001b[38;5;28;43;01mTrue\u001b[39;49;00m\u001b[43m)\u001b[49m\u001b[43m:\u001b[49m\n\u001b[0;32m     10\u001b[0m \u001b[43m    \u001b[49m\u001b[38;5;28;43mid\u001b[39;49m\u001b[43m:\u001b[49m\u001b[43m \u001b[49m\u001b[43mOptional\u001b[49m\u001b[43m[\u001b[49m\u001b[38;5;28;43mint\u001b[39;49m\u001b[43m]\u001b[49m\u001b[43m \u001b[49m\u001b[38;5;241;43m=\u001b[39;49m\u001b[43m \u001b[49m\u001b[43mField\u001b[49m\u001b[43m(\u001b[49m\u001b[43mdefault\u001b[49m\u001b[38;5;241;43m=\u001b[39;49m\u001b[38;5;28;43;01mNone\u001b[39;49;00m\u001b[43m,\u001b[49m\u001b[43m \u001b[49m\u001b[43mprimary_key\u001b[49m\u001b[38;5;241;43m=\u001b[39;49m\u001b[38;5;28;43;01mTrue\u001b[39;49;00m\u001b[43m)\u001b[49m\n\u001b[0;32m     11\u001b[0m \u001b[43m    \u001b[49m\u001b[43mserver_ip\u001b[49m\u001b[43m:\u001b[49m\u001b[43m \u001b[49m\u001b[38;5;28;43mstr\u001b[39;49m\n",
      "File \u001b[1;32mc:\\Users\\Rafi Ali\\anaconda3\\envs\\rafi\\Lib\\site-packages\\sqlmodel\\main.py:549\u001b[0m, in \u001b[0;36mSQLModelMetaclass.__init__\u001b[1;34m(cls, classname, bases, dict_, **kw)\u001b[0m\n\u001b[0;32m    545\u001b[0m         \u001b[38;5;28msetattr\u001b[39m(\u001b[38;5;28mcls\u001b[39m, rel_name, rel_value)  \u001b[38;5;66;03m# Fix #315\u001b[39;00m\n\u001b[0;32m    546\u001b[0m     \u001b[38;5;66;03m# SQLAlchemy no longer uses dict_\u001b[39;00m\n\u001b[0;32m    547\u001b[0m     \u001b[38;5;66;03m# Ref: https://github.com/sqlalchemy/sqlalchemy/commit/428ea01f00a9cc7f85e435018565eb6da7af1b77\u001b[39;00m\n\u001b[0;32m    548\u001b[0m     \u001b[38;5;66;03m# Tag: 1.4.36\u001b[39;00m\n\u001b[1;32m--> 549\u001b[0m     \u001b[43mDeclarativeMeta\u001b[49m\u001b[38;5;241;43m.\u001b[39;49m\u001b[38;5;21;43m__init__\u001b[39;49m\u001b[43m(\u001b[49m\u001b[38;5;28;43mcls\u001b[39;49m\u001b[43m,\u001b[49m\u001b[43m \u001b[49m\u001b[43mclassname\u001b[49m\u001b[43m,\u001b[49m\u001b[43m \u001b[49m\u001b[43mbases\u001b[49m\u001b[43m,\u001b[49m\u001b[43m \u001b[49m\u001b[43mdict_\u001b[49m\u001b[43m,\u001b[49m\u001b[43m \u001b[49m\u001b[38;5;241;43m*\u001b[39;49m\u001b[38;5;241;43m*\u001b[39;49m\u001b[43mkw\u001b[49m\u001b[43m)\u001b[49m\n\u001b[0;32m    550\u001b[0m \u001b[38;5;28;01melse\u001b[39;00m:\n\u001b[0;32m    551\u001b[0m     ModelMetaclass\u001b[38;5;241m.\u001b[39m\u001b[38;5;21m__init__\u001b[39m(\u001b[38;5;28mcls\u001b[39m, classname, bases, dict_, \u001b[38;5;241m*\u001b[39m\u001b[38;5;241m*\u001b[39mkw)\n",
      "File \u001b[1;32mc:\\Users\\Rafi Ali\\anaconda3\\envs\\rafi\\Lib\\site-packages\\sqlalchemy\\orm\\decl_api.py:196\u001b[0m, in \u001b[0;36mDeclarativeMeta.__init__\u001b[1;34m(cls, classname, bases, dict_, **kw)\u001b[0m\n\u001b[0;32m    193\u001b[0m         \u001b[38;5;28mcls\u001b[39m\u001b[38;5;241m.\u001b[39m_sa_registry \u001b[38;5;241m=\u001b[39m reg\n\u001b[0;32m    195\u001b[0m \u001b[38;5;28;01mif\u001b[39;00m \u001b[38;5;129;01mnot\u001b[39;00m \u001b[38;5;28mcls\u001b[39m\u001b[38;5;241m.\u001b[39m\u001b[38;5;18m__dict__\u001b[39m\u001b[38;5;241m.\u001b[39mget(\u001b[38;5;124m\"\u001b[39m\u001b[38;5;124m__abstract__\u001b[39m\u001b[38;5;124m\"\u001b[39m, \u001b[38;5;28;01mFalse\u001b[39;00m):\n\u001b[1;32m--> 196\u001b[0m     \u001b[43m_as_declarative\u001b[49m\u001b[43m(\u001b[49m\u001b[43mreg\u001b[49m\u001b[43m,\u001b[49m\u001b[43m \u001b[49m\u001b[38;5;28;43mcls\u001b[39;49m\u001b[43m,\u001b[49m\u001b[43m \u001b[49m\u001b[43mdict_\u001b[49m\u001b[43m)\u001b[49m\n\u001b[0;32m    197\u001b[0m \u001b[38;5;28mtype\u001b[39m\u001b[38;5;241m.\u001b[39m\u001b[38;5;21m__init__\u001b[39m(\u001b[38;5;28mcls\u001b[39m, classname, bases, dict_)\n",
      "File \u001b[1;32mc:\\Users\\Rafi Ali\\anaconda3\\envs\\rafi\\Lib\\site-packages\\sqlalchemy\\orm\\decl_base.py:244\u001b[0m, in \u001b[0;36m_as_declarative\u001b[1;34m(registry, cls, dict_)\u001b[0m\n\u001b[0;32m    239\u001b[0m \u001b[38;5;28;01mdef\u001b[39;00m \u001b[38;5;21m_as_declarative\u001b[39m(\n\u001b[0;32m    240\u001b[0m     registry: _RegistryType, \u001b[38;5;28mcls\u001b[39m: Type[Any], dict_: _ClassDict\n\u001b[0;32m    241\u001b[0m ) \u001b[38;5;241m-\u001b[39m\u001b[38;5;241m>\u001b[39m Optional[_MapperConfig]:\n\u001b[0;32m    242\u001b[0m     \u001b[38;5;66;03m# declarative scans the class for attributes.  no table or mapper\u001b[39;00m\n\u001b[0;32m    243\u001b[0m     \u001b[38;5;66;03m# args passed separately.\u001b[39;00m\n\u001b[1;32m--> 244\u001b[0m     \u001b[38;5;28;01mreturn\u001b[39;00m \u001b[43m_MapperConfig\u001b[49m\u001b[38;5;241;43m.\u001b[39;49m\u001b[43msetup_mapping\u001b[49m\u001b[43m(\u001b[49m\u001b[43mregistry\u001b[49m\u001b[43m,\u001b[49m\u001b[43m \u001b[49m\u001b[38;5;28;43mcls\u001b[39;49m\u001b[43m,\u001b[49m\u001b[43m \u001b[49m\u001b[43mdict_\u001b[49m\u001b[43m,\u001b[49m\u001b[43m \u001b[49m\u001b[38;5;28;43;01mNone\u001b[39;49;00m\u001b[43m,\u001b[49m\u001b[43m \u001b[49m\u001b[43m{\u001b[49m\u001b[43m}\u001b[49m\u001b[43m)\u001b[49m\n",
      "File \u001b[1;32mc:\\Users\\Rafi Ali\\anaconda3\\envs\\rafi\\Lib\\site-packages\\sqlalchemy\\orm\\decl_base.py:325\u001b[0m, in \u001b[0;36m_MapperConfig.setup_mapping\u001b[1;34m(cls, registry, cls_, dict_, table, mapper_kw)\u001b[0m\n\u001b[0;32m    321\u001b[0m     \u001b[38;5;28;01mreturn\u001b[39;00m _DeferredMapperConfig(\n\u001b[0;32m    322\u001b[0m         registry, cls_, dict_, table, mapper_kw\n\u001b[0;32m    323\u001b[0m     )\n\u001b[0;32m    324\u001b[0m \u001b[38;5;28;01melse\u001b[39;00m:\n\u001b[1;32m--> 325\u001b[0m     \u001b[38;5;28;01mreturn\u001b[39;00m \u001b[43m_ClassScanMapperConfig\u001b[49m\u001b[43m(\u001b[49m\n\u001b[0;32m    326\u001b[0m \u001b[43m        \u001b[49m\u001b[43mregistry\u001b[49m\u001b[43m,\u001b[49m\u001b[43m \u001b[49m\u001b[43mcls_\u001b[49m\u001b[43m,\u001b[49m\u001b[43m \u001b[49m\u001b[43mdict_\u001b[49m\u001b[43m,\u001b[49m\u001b[43m \u001b[49m\u001b[43mtable\u001b[49m\u001b[43m,\u001b[49m\u001b[43m \u001b[49m\u001b[43mmapper_kw\u001b[49m\n\u001b[0;32m    327\u001b[0m \u001b[43m    \u001b[49m\u001b[43m)\u001b[49m\n",
      "File \u001b[1;32mc:\\Users\\Rafi Ali\\anaconda3\\envs\\rafi\\Lib\\site-packages\\sqlalchemy\\orm\\decl_base.py:575\u001b[0m, in \u001b[0;36m_ClassScanMapperConfig.__init__\u001b[1;34m(self, registry, cls_, dict_, table, mapper_kw)\u001b[0m\n\u001b[0;32m    571\u001b[0m \u001b[38;5;28mself\u001b[39m\u001b[38;5;241m.\u001b[39m_extract_mappable_attributes()\n\u001b[0;32m    573\u001b[0m \u001b[38;5;28mself\u001b[39m\u001b[38;5;241m.\u001b[39m_extract_declared_columns()\n\u001b[1;32m--> 575\u001b[0m \u001b[38;5;28;43mself\u001b[39;49m\u001b[38;5;241;43m.\u001b[39;49m\u001b[43m_setup_table\u001b[49m\u001b[43m(\u001b[49m\u001b[43mtable\u001b[49m\u001b[43m)\u001b[49m\n\u001b[0;32m    577\u001b[0m \u001b[38;5;28mself\u001b[39m\u001b[38;5;241m.\u001b[39m_setup_inheriting_columns(mapper_kw)\n\u001b[0;32m    579\u001b[0m \u001b[38;5;28mself\u001b[39m\u001b[38;5;241m.\u001b[39m_early_mapping(mapper_kw)\n",
      "File \u001b[1;32mc:\\Users\\Rafi Ali\\anaconda3\\envs\\rafi\\Lib\\site-packages\\sqlalchemy\\orm\\decl_base.py:1726\u001b[0m, in \u001b[0;36m_ClassScanMapperConfig._setup_table\u001b[1;34m(self, table)\u001b[0m\n\u001b[0;32m   1718\u001b[0m             table_kw[\u001b[38;5;124m\"\u001b[39m\u001b[38;5;124mautoload\u001b[39m\u001b[38;5;124m\"\u001b[39m] \u001b[38;5;241m=\u001b[39m \u001b[38;5;28;01mTrue\u001b[39;00m\n\u001b[0;32m   1720\u001b[0m         sorted_columns \u001b[38;5;241m=\u001b[39m \u001b[38;5;28msorted\u001b[39m(\n\u001b[0;32m   1721\u001b[0m             declared_columns,\n\u001b[0;32m   1722\u001b[0m             key\u001b[38;5;241m=\u001b[39m\u001b[38;5;28;01mlambda\u001b[39;00m c: column_ordering\u001b[38;5;241m.\u001b[39mget(c, \u001b[38;5;241m0\u001b[39m),\n\u001b[0;32m   1723\u001b[0m         )\n\u001b[0;32m   1724\u001b[0m         table \u001b[38;5;241m=\u001b[39m \u001b[38;5;28mself\u001b[39m\u001b[38;5;241m.\u001b[39mset_cls_attribute(\n\u001b[0;32m   1725\u001b[0m             \u001b[38;5;124m\"\u001b[39m\u001b[38;5;124m__table__\u001b[39m\u001b[38;5;124m\"\u001b[39m,\n\u001b[1;32m-> 1726\u001b[0m             \u001b[43mtable_cls\u001b[49m\u001b[43m(\u001b[49m\n\u001b[0;32m   1727\u001b[0m \u001b[43m                \u001b[49m\u001b[43mtablename\u001b[49m\u001b[43m,\u001b[49m\n\u001b[0;32m   1728\u001b[0m \u001b[43m                \u001b[49m\u001b[38;5;28;43mself\u001b[39;49m\u001b[38;5;241;43m.\u001b[39;49m\u001b[43m_metadata_for_cls\u001b[49m\u001b[43m(\u001b[49m\u001b[43mmanager\u001b[49m\u001b[43m)\u001b[49m\u001b[43m,\u001b[49m\n\u001b[0;32m   1729\u001b[0m \u001b[43m                \u001b[49m\u001b[38;5;241;43m*\u001b[39;49m\u001b[43msorted_columns\u001b[49m\u001b[43m,\u001b[49m\n\u001b[0;32m   1730\u001b[0m \u001b[43m                \u001b[49m\u001b[38;5;241;43m*\u001b[39;49m\u001b[43margs\u001b[49m\u001b[43m,\u001b[49m\n\u001b[0;32m   1731\u001b[0m \u001b[43m                \u001b[49m\u001b[38;5;241;43m*\u001b[39;49m\u001b[38;5;241;43m*\u001b[39;49m\u001b[43mtable_kw\u001b[49m\u001b[43m,\u001b[49m\n\u001b[0;32m   1732\u001b[0m \u001b[43m            \u001b[49m\u001b[43m)\u001b[49m,\n\u001b[0;32m   1733\u001b[0m         )\n\u001b[0;32m   1734\u001b[0m \u001b[38;5;28;01melse\u001b[39;00m:\n\u001b[0;32m   1735\u001b[0m     \u001b[38;5;28;01mif\u001b[39;00m table \u001b[38;5;129;01mis\u001b[39;00m \u001b[38;5;28;01mNone\u001b[39;00m:\n",
      "File \u001b[1;32m<string>:2\u001b[0m, in \u001b[0;36m__new__\u001b[1;34m(cls, *args, **kw)\u001b[0m\n",
      "File \u001b[1;32mc:\\Users\\Rafi Ali\\anaconda3\\envs\\rafi\\Lib\\site-packages\\sqlalchemy\\util\\deprecations.py:281\u001b[0m, in \u001b[0;36mdeprecated_params.<locals>.decorate.<locals>.warned\u001b[1;34m(fn, *args, **kwargs)\u001b[0m\n\u001b[0;32m    274\u001b[0m     \u001b[38;5;28;01mif\u001b[39;00m m \u001b[38;5;129;01min\u001b[39;00m kwargs:\n\u001b[0;32m    275\u001b[0m         _warn_with_version(\n\u001b[0;32m    276\u001b[0m             messages[m],\n\u001b[0;32m    277\u001b[0m             versions[m],\n\u001b[0;32m    278\u001b[0m             version_warnings[m],\n\u001b[0;32m    279\u001b[0m             stacklevel\u001b[38;5;241m=\u001b[39m\u001b[38;5;241m3\u001b[39m,\n\u001b[0;32m    280\u001b[0m         )\n\u001b[1;32m--> 281\u001b[0m \u001b[38;5;28;01mreturn\u001b[39;00m \u001b[43mfn\u001b[49m\u001b[43m(\u001b[49m\u001b[38;5;241;43m*\u001b[39;49m\u001b[43margs\u001b[49m\u001b[43m,\u001b[49m\u001b[43m \u001b[49m\u001b[38;5;241;43m*\u001b[39;49m\u001b[38;5;241;43m*\u001b[39;49m\u001b[43mkwargs\u001b[49m\u001b[43m)\u001b[49m\n",
      "File \u001b[1;32mc:\\Users\\Rafi Ali\\anaconda3\\envs\\rafi\\Lib\\site-packages\\sqlalchemy\\sql\\schema.py:431\u001b[0m, in \u001b[0;36mTable.__new__\u001b[1;34m(cls, *args, **kw)\u001b[0m\n\u001b[0;32m    424\u001b[0m \u001b[38;5;129m@util\u001b[39m\u001b[38;5;241m.\u001b[39mdeprecated_params(\n\u001b[0;32m    425\u001b[0m     mustexist\u001b[38;5;241m=\u001b[39m(\n\u001b[0;32m    426\u001b[0m         \u001b[38;5;124m\"\u001b[39m\u001b[38;5;124m1.4\u001b[39m\u001b[38;5;124m\"\u001b[39m,\n\u001b[1;32m   (...)\u001b[0m\n\u001b[0;32m    429\u001b[0m )\n\u001b[0;32m    430\u001b[0m \u001b[38;5;28;01mdef\u001b[39;00m \u001b[38;5;21m__new__\u001b[39m(\u001b[38;5;28mcls\u001b[39m, \u001b[38;5;241m*\u001b[39margs: Any, \u001b[38;5;241m*\u001b[39m\u001b[38;5;241m*\u001b[39mkw: Any) \u001b[38;5;241m-\u001b[39m\u001b[38;5;241m>\u001b[39m Any:\n\u001b[1;32m--> 431\u001b[0m     \u001b[38;5;28;01mreturn\u001b[39;00m \u001b[38;5;28;43mcls\u001b[39;49m\u001b[38;5;241;43m.\u001b[39;49m\u001b[43m_new\u001b[49m\u001b[43m(\u001b[49m\u001b[38;5;241;43m*\u001b[39;49m\u001b[43margs\u001b[49m\u001b[43m,\u001b[49m\u001b[43m \u001b[49m\u001b[38;5;241;43m*\u001b[39;49m\u001b[38;5;241;43m*\u001b[39;49m\u001b[43mkw\u001b[49m\u001b[43m)\u001b[49m\n",
      "File \u001b[1;32mc:\\Users\\Rafi Ali\\anaconda3\\envs\\rafi\\Lib\\site-packages\\sqlalchemy\\sql\\schema.py:463\u001b[0m, in \u001b[0;36mTable._new\u001b[1;34m(cls, *args, **kw)\u001b[0m\n\u001b[0;32m    461\u001b[0m \u001b[38;5;28;01mif\u001b[39;00m key \u001b[38;5;129;01min\u001b[39;00m metadata\u001b[38;5;241m.\u001b[39mtables:\n\u001b[0;32m    462\u001b[0m     \u001b[38;5;28;01mif\u001b[39;00m \u001b[38;5;129;01mnot\u001b[39;00m keep_existing \u001b[38;5;129;01mand\u001b[39;00m \u001b[38;5;129;01mnot\u001b[39;00m extend_existing \u001b[38;5;129;01mand\u001b[39;00m \u001b[38;5;28mbool\u001b[39m(args):\n\u001b[1;32m--> 463\u001b[0m         \u001b[38;5;28;01mraise\u001b[39;00m exc\u001b[38;5;241m.\u001b[39mInvalidRequestError(\n\u001b[0;32m    464\u001b[0m             \u001b[38;5;124mf\u001b[39m\u001b[38;5;124m\"\u001b[39m\u001b[38;5;124mTable \u001b[39m\u001b[38;5;124m'\u001b[39m\u001b[38;5;132;01m{\u001b[39;00mkey\u001b[38;5;132;01m}\u001b[39;00m\u001b[38;5;124m'\u001b[39m\u001b[38;5;124m is already defined for this MetaData \u001b[39m\u001b[38;5;124m\"\u001b[39m\n\u001b[0;32m    465\u001b[0m             \u001b[38;5;124m\"\u001b[39m\u001b[38;5;124minstance.  Specify \u001b[39m\u001b[38;5;124m'\u001b[39m\u001b[38;5;124mextend_existing=True\u001b[39m\u001b[38;5;124m'\u001b[39m\u001b[38;5;124m \u001b[39m\u001b[38;5;124m\"\u001b[39m\n\u001b[0;32m    466\u001b[0m             \u001b[38;5;124m\"\u001b[39m\u001b[38;5;124mto redefine \u001b[39m\u001b[38;5;124m\"\u001b[39m\n\u001b[0;32m    467\u001b[0m             \u001b[38;5;124m\"\u001b[39m\u001b[38;5;124moptions and columns on an \u001b[39m\u001b[38;5;124m\"\u001b[39m\n\u001b[0;32m    468\u001b[0m             \u001b[38;5;124m\"\u001b[39m\u001b[38;5;124mexisting Table object.\u001b[39m\u001b[38;5;124m\"\u001b[39m\n\u001b[0;32m    469\u001b[0m         )\n\u001b[0;32m    470\u001b[0m     table \u001b[38;5;241m=\u001b[39m metadata\u001b[38;5;241m.\u001b[39mtables[key]\n\u001b[0;32m    471\u001b[0m     \u001b[38;5;28;01mif\u001b[39;00m extend_existing:\n",
      "\u001b[1;31mInvalidRequestError\u001b[0m: Table 'server' is already defined for this MetaData instance.  Specify 'extend_existing=True' to redefine options and columns on an existing Table object."
     ]
    }
   ],
   "source": [
    "load_dotenv()\n",
    "database_connection_str = os.getenv('db')   \n",
    "\n",
    "# Create engine for database connection\n",
    "#echo true only development env not for production\n",
    "engine = create_engine(database_connection_str, echo=False)    \n",
    "\n",
    "# Define Server class with SQLModel\n",
    "class Server(SQLModel, table=True):\n",
    "    id: Optional[int] = Field(default=None, primary_key=True)\n",
    "    server_ip: str\n",
    "\n",
    "# Function to create database and tables\n",
    "def create_db_and_tables():\n",
    "    SQLModel.metadata.create_all(engine)"
   ]
  },
  {
   "cell_type": "markdown",
   "metadata": {},
   "source": [
    "# Create database and tables"
   ]
  },
  {
   "cell_type": "code",
   "execution_count": 5,
   "metadata": {},
   "outputs": [],
   "source": [
    "create_db_and_tables()"
   ]
  },
  {
   "cell_type": "markdown",
   "metadata": {},
   "source": [
    "# Function to create a server with a given host"
   ]
  },
  {
   "cell_type": "code",
   "execution_count": 6,
   "metadata": {},
   "outputs": [],
   "source": [
    "def create_server(host:str):\n",
    "    server1 = Server(server_ip=host)\n",
    "    session = Session(engine)\n",
    "    session.add(server1)\n",
    "    session.commit()\n",
    "    session.close()"
   ]
  },
  {
   "cell_type": "markdown",
   "metadata": {},
   "source": [
    "# Function to delete an IP from the database"
   ]
  },
  {
   "cell_type": "code",
   "execution_count": 7,
   "metadata": {},
   "outputs": [],
   "source": [
    "def delete_ip(host:str):\n",
    "    with Session(engine) as session:\n",
    "        statement = select(Server).where(Server.server_ip == host)\n",
    "        results = session.exec(statement)\n",
    "        ip_address = results.one()\n",
    "        print(\"IP Address: \", ip_address)\n",
    "\n",
    "        session.delete(ip_address)\n",
    "        session.commit()\n",
    "\n",
    "        print(\"Deleted ip:\", ip_address)"
   ]
  },
  {
   "cell_type": "markdown",
   "metadata": {},
   "source": [
    "# Function to select an IP from the database"
   ]
  },
  {
   "cell_type": "code",
   "execution_count": 8,
   "metadata": {},
   "outputs": [],
   "source": [
    "def select_ip(host:str):\n",
    "    data = []\n",
    "    with Session(engine) as session:\n",
    "        statement = select(Server).where(Server.server_ip == host)\n",
    "        results = session.exec(statement)\n",
    "        for ip,name in results:\n",
    "            new = data.append(ip)\n",
    "        return data    "
   ]
  },
  {
   "cell_type": "markdown",
   "metadata": {},
   "source": [
    "#### Note: This code is for individual person messages. If you want to send a message in a group, please refer to the last code."
   ]
  },
  {
   "cell_type": "code",
   "execution_count": 7,
   "metadata": {},
   "outputs": [
    {
     "name": "stdout",
     "output_type": "stream",
     "text": [
      "10.3.10.50 is online\n",
      "10.3.10.97 is online\n",
      "10.3.21.201 is offline\n",
      "hello\n"
     ]
    }
   ],
   "source": [
    "# Name of the cookie file for WhatsApp\n",
    "whatsapp_file_cookie_name = \"\"\n",
    "\n",
    "# Path to the Chrome profile\n",
    "chrome_profile_path = \"user-data-dir=C:/Users/Rafi Ali/AppData/Local/Google/Chrome/User Data/Default/\"\n",
    "\n",
    "# Function to ping a host\n",
    "def ping(host):\n",
    "    \"\"\"\n",
    "    Returns True if the host responds to a ping request.\n",
    "    \"\"\"\n",
    "    param = '-n' if platform.system().lower() == 'windows' else '-c'\n",
    "    command = ['ping', param, '1', host]\n",
    "    return subprocess.call(command) == 0\n",
    "\n",
    "# List of hostnames to ping\n",
    "hostname = [\"10.3.10.50\", \"10.3.10.97\",\"10.3.21.201\"]\n",
    "\n",
    "# Main loop to continuously ping hosts\n",
    "while True:\n",
    "    for host in hostname:\n",
    "        if ping(host):\n",
    "            print(f\"{host} is online\")\n",
    "            ifServer = select_ip(host)\n",
    "            for name,ip in ifServer:\n",
    "                db_ip = ip\n",
    "                if db_ip == host:\n",
    "                    print(\"already exist\")\n",
    "                    delete_ip(host)\n",
    "                        \n",
    "        else:\n",
    "            print(f\"{host} is offline\")\n",
    "            ip = \"\"\n",
    "            ifServer = select_ip(host)\n",
    "            for name,ip in ifServer:\n",
    "                db_ip = ip\n",
    "                if db_ip == host:\n",
    "                    print(\"already exist\")        \n",
    "            if host == ip:\n",
    "                print(\"Already exist in db\")                \n",
    "            else:\n",
    "                create_server(host)\n",
    "                # time.sleep(5)\n",
    "                whatsapp_file_cookie_name = \"\"\n",
    "\n",
    "                chrome_profile_path = \"user-data-dir=C:/Users/Rafi Ali/AppData/Local/Google/Chrome/User Data/Default/\"\n",
    "\n",
    "                chrome_options = webdriver.ChromeOptions()\n",
    "                chrome_options.add_argument(chrome_profile_path)\n",
    "                driver = webdriver.Chrome(options=chrome_options)\n",
    "                driver.get(f\"https://web.whatsapp.com/send?phone=+9203190269909&text=This IP address {host} is not responding to pings\")\n",
    "                print(\"hello\")\n",
    "                time.sleep(30)\n",
    "                # Use find_element instead of find_elements\n",
    "                element = driver.find_element(by=By.XPATH, value=\"/html/body/div[1]/div/div[2]/div[4]/div/footer/div[1]/div/span[2]/div/div[2]/div[2]/button\")\n",
    "                element.click()  # Now you can call .click() on the single element\n",
    "                time.sleep(10)\n",
    "                driver.quit()\n",
    "    time.sleep(20)  # Wait for 20 minute before checking again        \n"
   ]
  },
  {
   "cell_type": "markdown",
   "metadata": {},
   "source": [
    "#### Note: This code is for group  messages. If you want to send a individual person message, please refer to the upper code."
   ]
  },
  {
   "cell_type": "code",
   "execution_count": 10,
   "metadata": {},
   "outputs": [
    {
     "name": "stdout",
     "output_type": "stream",
     "text": [
      "10.3.10.50 is online\n",
      "10.3.10.97 is online\n",
      "10.3.21.201 is offline\n",
      "already exist\n",
      "Already exist in db\n",
      "10.3.10.222 is online\n",
      "10.3.10.18 is online\n",
      "already exist\n",
      "IP Address:  server_ip='10.3.10.18' id=16\n",
      "Deleted ip: server_ip='10.3.10.18' id=16\n",
      "10.3.10.30 is online\n",
      "10.3.10.50 is offline\n",
      "hello from else\n",
      "10.3.10.97 is online\n",
      "10.3.21.201 is offline\n",
      "already exist\n",
      "Already exist in db\n",
      "10.3.10.222 is online\n",
      "10.3.10.18 is online\n",
      "10.3.10.30 is online\n",
      "10.3.10.50 is offline\n",
      "already exist\n",
      "Already exist in db\n",
      "10.3.10.97 is online\n",
      "10.3.21.201 is offline\n",
      "already exist\n",
      "Already exist in db\n",
      "10.3.10.222 is online\n",
      "10.3.10.18 is online\n",
      "10.3.10.30 is online\n",
      "10.3.10.50 is online\n",
      "already exist\n",
      "IP Address:  server_ip='10.3.10.50' id=17\n",
      "Deleted ip: server_ip='10.3.10.50' id=17\n",
      "10.3.10.97 is online\n",
      "10.3.21.201 is offline\n",
      "already exist\n",
      "Already exist in db\n",
      "10.3.10.222 is online\n",
      "10.3.10.18 is online\n",
      "10.3.10.30 is offline\n",
      "hello from else\n",
      "10.3.10.50 is online\n",
      "10.3.10.97 is online\n",
      "10.3.21.201 is offline\n",
      "already exist\n",
      "Already exist in db\n",
      "10.3.10.222 is online\n",
      "10.3.10.18 is online\n",
      "10.3.10.30 is online\n",
      "already exist\n",
      "IP Address:  server_ip='10.3.10.30' id=18\n",
      "Deleted ip: server_ip='10.3.10.30' id=18\n",
      "10.3.10.50 is online\n",
      "10.3.10.97 is online\n",
      "10.3.21.201 is offline\n",
      "already exist\n",
      "Already exist in db\n",
      "10.3.10.222 is online\n",
      "10.3.10.18 is online\n",
      "10.3.10.30 is online\n"
     ]
    }
   ],
   "source": [
    "# Name of the cookie file for WhatsApp\n",
    "whatsapp_file_cookie_name = \"\"\n",
    "\n",
    "# Path to the Chrome profile\n",
    "chrome_profile_path = \"user-data-dir=C:/Users/Rafi Ali/AppData/Local/Google/Chrome/User Data/Default/\"\n",
    "\n",
    "# Function to ping a host\n",
    "def ping(host):\n",
    "    \"\"\"\n",
    "    Returns True if the host responds to a ping request.\n",
    "    \"\"\"\n",
    "    param = '-n' if platform.system().lower() == 'windows' else '-c'\n",
    "    command = ['ping', param, '1', host]\n",
    "    return subprocess.call(command) == 0\n",
    "\n",
    "# List of hostnames to ping\n",
    "hostname = [\"10.3.10.50\", \"10.3.10.97\",\"10.3.21.201\",\"10.3.10.222\",\"10.3.10.18\",\"10.3.10.30\"]\n",
    "\n",
    "# Main loop to continuously ping hosts\n",
    "while True:\n",
    "    for host in hostname:\n",
    "        if ping(host):\n",
    "            print(f\"{host} is online\")\n",
    "            ifServer = select_ip(host)\n",
    "            for name,ip in ifServer:\n",
    "                db_ip = ip\n",
    "                if db_ip == host:\n",
    "                    print(\"already exist\")\n",
    "                    delete_ip(host)\n",
    "                        \n",
    "        else:\n",
    "            print(f\"{host} is offline\")\n",
    "            ip = \"\"\n",
    "            ifServer = select_ip(host)\n",
    "            for name,ip in ifServer:\n",
    "                db_ip = ip\n",
    "                if db_ip == host:\n",
    "                    print(\"already exist\")        \n",
    "            if host == ip:\n",
    "                print(\"Already exist in db\")                \n",
    "            else:\n",
    "                create_server(host)\n",
    "                # time.sleep(5)\n",
    "                whatsapp_file_cookie_name = \"\"\n",
    "\n",
    "                chrome_profile_path = \"user-data-dir=C:/Users/Rafi Ali/AppData/Local/Google/Chrome/User Data/Default/\"\n",
    "\n",
    "                chrome_options = webdriver.ChromeOptions()\n",
    "                chrome_options.add_argument(chrome_profile_path)\n",
    "                driver = webdriver.Chrome(options=chrome_options)\n",
    "                driver.get(\"https://web.whatsapp.com/accept?code=BaRxMtgOLVx5vDPIOMjjkt\")\n",
    "                print(\"hello from else\")\n",
    "                time.sleep(30)\n",
    "                # Clear field to empty it from any previous data\n",
    "                driver.find_element(By.XPATH, \"/html/body/div[1]/div/div[2]/div[4]/div/footer/div[1]/div/span[2]/div/div[2]/div[1]/div[2]/div[1]\").clear()\n",
    "\n",
    "                # Enter Text\n",
    "                driver.find_element(By.XPATH, \"/html/body/div[1]/div/div[2]/div[4]/div/footer/div[1]/div/span[2]/div/div[2]/div[1]/div[2]/div[1]\").send_keys(f\"This IP address {host} is not responding to pings\" )\n",
    "                # Use find_element instead of find_elements\n",
    "                element = driver.find_element(by=By.XPATH, value=\"/html/body/div[1]/div/div[2]/div[4]/div/footer/div[1]/div/span[2]/div/div[2]/div[2]/button\")\n",
    "                element.click()  # Now you can call .click() on the single element\n",
    "                time.sleep(10)\n",
    "                driver.quit()\n",
    "    time.sleep(20)  # Wait for 20 minute before checking again    "
   ]
  },
  {
   "cell_type": "markdown",
   "metadata": {},
   "source": [
    "  <a href=\"https://www.linkedin.com/in/therafiali/\"><img  alt=\"LinkedIn\" title=\"LinkedIn\" src=\"https://img.shields.io/badge/LinkedIn-0b5fbb?style=for-the-badge&logo=linkedin&logoColor=white\"/></a>"
   ]
  }
 ],
 "metadata": {
  "kernelspec": {
   "display_name": "rafi",
   "language": "python",
   "name": "python3"
  },
  "language_info": {
   "codemirror_mode": {
    "name": "ipython",
    "version": 3
   },
   "file_extension": ".py",
   "mimetype": "text/x-python",
   "name": "python",
   "nbconvert_exporter": "python",
   "pygments_lexer": "ipython3",
   "version": "3.12.0"
  }
 },
 "nbformat": 4,
 "nbformat_minor": 2
}
