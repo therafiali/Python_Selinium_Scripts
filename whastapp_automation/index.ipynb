{
 "cells": [
  {
   "cell_type": "code",
   "execution_count": null,
   "metadata": {},
   "outputs": [],
   "source": [
    "from selenium import webdriver\n",
    "from selenium.webdriver.common.by import By\n",
    "import time\n",
    "\n",
    "number = \"9203111234567\"\n",
    "message = \"Hi, This is Rafi Ali\"\n",
    "whatsapp_file_cookie_name = \"\"\n",
    "\n",
    "chrome_profile_path = \"user-data-dir=C:/Users/Rafi Ali/AppData/Local/Google/Chrome/User Data/Default/\"\n",
    "\n",
    "chrome_options = webdriver.ChromeOptions()\n",
    "chrome_options.add_argument(chrome_profile_path)\n",
    "driver = webdriver.Chrome(options=chrome_options)\n",
    "\n",
    "driver.get(f\"https://web.whatsapp.com/send?phone=+{number}&text={message}\")\n",
    "\n",
    "\n",
    "time.sleep(20)\n",
    "# Use find_element instead of find_elements\n",
    "element = driver.find_element(by=By.XPATH, value=\"/html/body/div[1]/div/div[2]/div[4]/div/footer/div[1]/div/span[2]/div/div[2]/div[2]/button\")\n",
    "element.click()  # Now you can call .click() on the single element\n"
   ]
  }
 ],
 "metadata": {
  "kernelspec": {
   "display_name": "rafi",
   "language": "python",
   "name": "python3"
  },
  "language_info": {
   "name": "python",
   "version": "3.12.0"
  }
 },
 "nbformat": 4,
 "nbformat_minor": 2
}
